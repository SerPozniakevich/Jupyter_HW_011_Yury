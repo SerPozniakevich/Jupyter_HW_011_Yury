{
 "cells": [
  {
   "cell_type": "code",
   "execution_count": 3,
   "id": "9972f8c2",
   "metadata": {},
   "outputs": [],
   "source": [
    "import pandas as pd"
   ]
  },
  {
   "cell_type": "code",
   "execution_count": 4,
   "id": "5bacf968",
   "metadata": {},
   "outputs": [],
   "source": [
    "df = pd.read_csv('train (1).csv')"
   ]
  },
  {
   "cell_type": "code",
   "execution_count": 95,
   "id": "abc46a57",
   "metadata": {},
   "outputs": [
    {
     "name": "stdout",
     "output_type": "stream",
     "text": [
      "<class 'pandas.core.frame.DataFrame'>\n",
      "RangeIndex: 891 entries, 0 to 890\n",
      "Data columns (total 12 columns):\n",
      " #   Column       Non-Null Count  Dtype  \n",
      "---  ------       --------------  -----  \n",
      " 0   PassengerId  891 non-null    int64  \n",
      " 1   Survived     891 non-null    int64  \n",
      " 2   Pclass       891 non-null    int64  \n",
      " 3   Name         891 non-null    object \n",
      " 4   Sex          891 non-null    object \n",
      " 5   Age          714 non-null    float64\n",
      " 6   SibSp        891 non-null    int64  \n",
      " 7   Parch        891 non-null    int64  \n",
      " 8   Ticket       891 non-null    object \n",
      " 9   Fare         891 non-null    float64\n",
      " 10  Cabin        204 non-null    object \n",
      " 11  Embarked     889 non-null    object \n",
      "dtypes: float64(2), int64(5), object(5)\n",
      "memory usage: 83.7+ KB\n"
     ]
    }
   ],
   "source": [
    "df.info()"
   ]
  },
  {
   "cell_type": "code",
   "execution_count": 234,
   "id": "580b033f",
   "metadata": {},
   "outputs": [
    {
     "data": {
      "text/plain": [
       "314"
      ]
     },
     "execution_count": 234,
     "metadata": {},
     "output_type": "execute_result"
    }
   ],
   "source": [
    "df_wom = df.query(\"Sex == 'female'\")\n",
    "df_wom_int = df.query(\"Sex == 'female'\").shape[0]\n",
    "df_wom_int"
   ]
  },
  {
   "cell_type": "markdown",
   "id": "519d79d6",
   "metadata": {},
   "source": [
    "__*Женщин на борту было 314"
   ]
  },
  {
   "cell_type": "code",
   "execution_count": 254,
   "id": "5d76baeb",
   "metadata": {},
   "outputs": [
    {
     "data": {
      "text/plain": [
       "233"
      ]
     },
     "execution_count": 254,
     "metadata": {},
     "output_type": "execute_result"
    }
   ],
   "source": [
    "sav_wom_int = df_wom.query(\"Survived == 1\").shape[0]\n",
    "sav_wom_int"
   ]
  },
  {
   "cell_type": "markdown",
   "id": "c20e0064",
   "metadata": {},
   "source": [
    "__*Спаслось 233 женщины"
   ]
  },
  {
   "cell_type": "code",
   "execution_count": 255,
   "id": "73efca2c",
   "metadata": {},
   "outputs": [
    {
     "data": {
      "text/plain": [
       "74.0"
      ]
     },
     "execution_count": 255,
     "metadata": {},
     "output_type": "execute_result"
    }
   ],
   "source": [
    "i = round((sav_wom_int / df_wom_int) * 100, 0)\n",
    "i"
   ]
  },
  {
   "cell_type": "markdown",
   "id": "7e3e45a1",
   "metadata": {},
   "source": [
    "__*Спаслось 74 % женщин"
   ]
  },
  {
   "cell_type": "code",
   "execution_count": 236,
   "id": "f9df47a4",
   "metadata": {},
   "outputs": [
    {
     "data": {
      "text/plain": [
       "577"
      ]
     },
     "execution_count": 236,
     "metadata": {},
     "output_type": "execute_result"
    }
   ],
   "source": [
    "df_man = df.query(\"Sex != 'female'\")\n",
    "df_man_int = df.query(\"Sex != 'female'\").shape[0]\n",
    "df_man_int"
   ]
  },
  {
   "cell_type": "markdown",
   "id": "c863ca02",
   "metadata": {},
   "source": [
    "__*Мужчин на борту было 577"
   ]
  },
  {
   "cell_type": "code",
   "execution_count": 256,
   "id": "0f488bb4",
   "metadata": {},
   "outputs": [
    {
     "data": {
      "text/plain": [
       "109"
      ]
     },
     "execution_count": 256,
     "metadata": {},
     "output_type": "execute_result"
    }
   ],
   "source": [
    "sav_man_int = df_man.query(\"Survived == 1\").shape[0]\n",
    "sav_man_int"
   ]
  },
  {
   "cell_type": "markdown",
   "id": "a5e203b0",
   "metadata": {},
   "source": [
    "__*Спаслось 109 мужчин"
   ]
  },
  {
   "cell_type": "code",
   "execution_count": 258,
   "id": "b197d5e9",
   "metadata": {},
   "outputs": [
    {
     "data": {
      "text/plain": [
       "19.0"
      ]
     },
     "execution_count": 258,
     "metadata": {},
     "output_type": "execute_result"
    }
   ],
   "source": [
    "i = round((sav_man_int / df_man_int) * 100, 0)\n",
    "i"
   ]
  },
  {
   "cell_type": "markdown",
   "id": "17dd36c2",
   "metadata": {},
   "source": [
    "__*Спаслось 19 % мужчин"
   ]
  },
  {
   "cell_type": "markdown",
   "id": "77269ad7",
   "metadata": {},
   "source": [
    "__*Вывод: Мужчины отдавали свои места в лодках для спасения женщин."
   ]
  }
 ],
 "metadata": {
  "kernelspec": {
   "display_name": "Python 3 (ipykernel)",
   "language": "python",
   "name": "python3"
  },
  "language_info": {
   "codemirror_mode": {
    "name": "ipython",
    "version": 3
   },
   "file_extension": ".py",
   "mimetype": "text/x-python",
   "name": "python",
   "nbconvert_exporter": "python",
   "pygments_lexer": "ipython3",
   "version": "3.9.13"
  }
 },
 "nbformat": 4,
 "nbformat_minor": 5
}
