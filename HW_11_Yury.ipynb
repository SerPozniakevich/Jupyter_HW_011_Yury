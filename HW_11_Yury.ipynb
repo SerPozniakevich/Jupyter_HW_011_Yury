{
 "cells": [
  {
   "cell_type": "code",
   "execution_count": 2,
   "id": "8bc2c2b8",
   "metadata": {},
   "outputs": [],
   "source": [
    "import pandas as pd"
   ]
  },
  {
   "cell_type": "code",
   "execution_count": 3,
   "id": "dbe358ab",
   "metadata": {},
   "outputs": [],
   "source": [
    "df = pd.read_csv('train (1).csv')"
   ]
  },
  {
   "cell_type": "markdown",
   "id": "361104f6",
   "metadata": {},
   "source": [
    "## Выжившие при крушении (%):\n",
    "    \n",
    "|       Пол    |     На борту    | Первый класс:|Второй класс:|Третий класс:|\n",
    "|:-------------|:----------------|:-------------|:------------|:------------|\n",
    "|              |c родственниками |       97     |       93    |       42    |\n",
    "|   Женщина    |:----------------|:-------------|:------------|:------------|  \n",
    "|              |без родственников|       97     |       91    |       62    |\n",
    "|:-------------|:----------------|:-------------|:------------|:------------|\n",
    "|              |c родственниками |       28     |       43    |       18    |\n",
    "|   Мужчина    |:----------------|:-------------|:------------|:------------|  \n",
    "|              |без родственников|       10     |       33    |       12    |\n",
    "|:-------------|:----------------|:-------------|:------------|:------------|\n",
    "\n",
    "\n",
    "___Пассажиров второго класса мужского пола спаслось больше чем из других классов (в процентном соотношении).___"
   ]
  },
  {
   "cell_type": "code",
   "execution_count": 34,
   "id": "7954d1fc",
   "metadata": {},
   "outputs": [
    {
     "data": {
      "text/plain": [
       "94"
      ]
     },
     "execution_count": 34,
     "metadata": {},
     "output_type": "execute_result"
    }
   ],
   "source": [
    "df_wom_1 = df.query(\"Sex == 'female' and Pclass == 1\")\n",
    "df_wom_1_int = df.query(\"Sex == 'female' and Pclass == 1\").shape[0]\n",
    "df_wom_1_int"
   ]
  },
  {
   "cell_type": "markdown",
   "id": "04c25dc2",
   "metadata": {},
   "source": [
    "Количество женщин на борту в первом классе = 94."
   ]
  },
  {
   "cell_type": "code",
   "execution_count": 36,
   "id": "d4291faf",
   "metadata": {},
   "outputs": [
    {
     "data": {
      "text/plain": [
       "91"
      ]
     },
     "execution_count": 36,
     "metadata": {},
     "output_type": "execute_result"
    }
   ],
   "source": [
    "df_wom_1_liv = df.query(\"Sex == 'female' and Pclass == 1 and Survived == 1\")\n",
    "df_wom_1_liv_int = df.query(\"Sex == 'female' and Pclass == 1 and Survived == 1\").shape[0]\n",
    "df_wom_1_liv_int"
   ]
  },
  {
   "cell_type": "markdown",
   "id": "dabb57d5",
   "metadata": {},
   "source": [
    "Количество спасшихся женщин из первого класса = 91."
   ]
  },
  {
   "cell_type": "code",
   "execution_count": 35,
   "id": "4a8a1807",
   "metadata": {},
   "outputs": [
    {
     "data": {
      "text/plain": [
       "34"
      ]
     },
     "execution_count": 35,
     "metadata": {},
     "output_type": "execute_result"
    }
   ],
   "source": [
    "df_wom_1_free = df.query(\"Sex == 'female' and Pclass == 1 and SibSp == 0 and Parch == 0\")\n",
    "df_wom_1_free_int = df.query(\"Sex == 'female' and Pclass == 1 and SibSp == 0 and Parch == 0\").shape[0]\n",
    "df_wom_1_free_int"
   ]
  },
  {
   "cell_type": "code",
   "execution_count": 46,
   "id": "ab435aa0",
   "metadata": {},
   "outputs": [
    {
     "data": {
      "text/plain": [
       "60"
      ]
     },
     "execution_count": 46,
     "metadata": {},
     "output_type": "execute_result"
    }
   ],
   "source": [
    "df_wom_1_fam_int = df_wom_1_int - df_wom_1_free_int\n",
    "df_wom_1_fam_int"
   ]
  },
  {
   "cell_type": "markdown",
   "id": "122a3f55",
   "metadata": {},
   "source": [
    "Женщин в первом классе без родственников на борту = 34,\n",
    "\n",
    "Женщин в первом классе с родственниками на борту = 60."
   ]
  },
  {
   "cell_type": "code",
   "execution_count": 48,
   "id": "ea9756af",
   "metadata": {},
   "outputs": [
    {
     "data": {
      "text/plain": [
       "33"
      ]
     },
     "execution_count": 48,
     "metadata": {},
     "output_type": "execute_result"
    }
   ],
   "source": [
    "df_wom_1_liv_free = df.query(\"Sex == 'female' and Pclass == 1 and Survived == 1 and SibSp == 0 and Parch == 0\")\n",
    "df_wom_1_liv_free_int = df.query(\"Sex == 'female' and Pclass == 1 and Survived == 1 and SibSp == 0 and Parch == 0\").shape[0]\n",
    "df_wom_1_liv_free_int"
   ]
  },
  {
   "cell_type": "code",
   "execution_count": 49,
   "id": "e325bec4",
   "metadata": {},
   "outputs": [
    {
     "data": {
      "text/plain": [
       "58"
      ]
     },
     "execution_count": 49,
     "metadata": {},
     "output_type": "execute_result"
    }
   ],
   "source": [
    "df_wom_1_liv_fam_int = df_wom_1_liv_int - df_wom_1_liv_free_int\n",
    "df_wom_1_liv_fam_int"
   ]
  },
  {
   "cell_type": "code",
   "execution_count": 92,
   "id": "d82e87a8",
   "metadata": {},
   "outputs": [
    {
     "data": {
      "text/plain": [
       "(97.0, 97.0)"
      ]
     },
     "execution_count": 92,
     "metadata": {},
     "output_type": "execute_result"
    }
   ],
   "source": [
    "df_wom_1_liv_fam_int_per = round((df_wom_1_liv_fam_int / df_wom_1_fam_int) * 100, 0)\n",
    "df_wom_1_liv_free_int_per = round((df_wom_1_liv_free_int / df_wom_1_free_int) * 100, 0)\n",
    "df_wom_1_liv_fam_int_per, df_wom_1_liv_free_int_per"
   ]
  },
  {
   "cell_type": "markdown",
   "id": "4a0c702d",
   "metadata": {},
   "source": [
    "Выжившие женщины из первого класса без родственников на борту = 33 (97%),\n",
    "\n",
    "Выжившие женщины из первого класса с родственниками на борту = 58  (97%)."
   ]
  },
  {
   "cell_type": "code",
   "execution_count": 39,
   "id": "37e0ace5",
   "metadata": {},
   "outputs": [
    {
     "data": {
      "text/plain": [
       "122"
      ]
     },
     "execution_count": 39,
     "metadata": {},
     "output_type": "execute_result"
    }
   ],
   "source": [
    "df_man_1 = df.query(\"Sex != 'female' and Pclass == 1\")\n",
    "df_man_1_int = df.query(\"Sex != 'female' and Pclass == 1\").shape[0]\n",
    "df_man_1_int"
   ]
  },
  {
   "cell_type": "markdown",
   "id": "49b491e7",
   "metadata": {},
   "source": [
    "Количество мужчин на борту в первом классе."
   ]
  },
  {
   "cell_type": "code",
   "execution_count": 43,
   "id": "b7460b63",
   "metadata": {},
   "outputs": [
    {
     "data": {
      "text/plain": [
       "75"
      ]
     },
     "execution_count": 43,
     "metadata": {},
     "output_type": "execute_result"
    }
   ],
   "source": [
    "df_man_1_free = df.query(\"Sex != 'female' and Pclass == 1 and SibSp == 0 and Parch == 0\")\n",
    "df_man_1_free_int = df.query(\"Sex != 'female' and Pclass == 1 and SibSp == 0 and Parch == 0\").shape[0]\n",
    "df_man_1_free_int"
   ]
  },
  {
   "cell_type": "code",
   "execution_count": 51,
   "id": "c5b9e88e",
   "metadata": {},
   "outputs": [
    {
     "data": {
      "text/plain": [
       "47"
      ]
     },
     "execution_count": 51,
     "metadata": {},
     "output_type": "execute_result"
    }
   ],
   "source": [
    "df_man_1_fam_int = df_man_1_int - df_man_1_free_int\n",
    "df_man_1_fam_int"
   ]
  },
  {
   "cell_type": "markdown",
   "id": "cdf2b789",
   "metadata": {},
   "source": [
    "Количество мужчин без родственников на борту из первого класса = 75,\n",
    "\n",
    "Количество мужчин с родственниками на борту из первого класса = 47."
   ]
  },
  {
   "cell_type": "code",
   "execution_count": 50,
   "id": "0cb1a937",
   "metadata": {},
   "outputs": [
    {
     "data": {
      "text/plain": [
       "45"
      ]
     },
     "execution_count": 50,
     "metadata": {},
     "output_type": "execute_result"
    }
   ],
   "source": [
    "df_man_1_liv = df.query(\"Sex != 'female' and Pclass == 1 and Survived == 1\")\n",
    "df_man_1_liv_int = df.query(\"Sex != 'female' and Pclass == 1 and Survived == 1\").shape[0]\n",
    "df_man_1_liv_int"
   ]
  },
  {
   "cell_type": "markdown",
   "id": "56bc4126",
   "metadata": {},
   "source": [
    "Количество спасшихся мужчин из первого класса = 45."
   ]
  },
  {
   "cell_type": "code",
   "execution_count": 52,
   "id": "a548373e",
   "metadata": {},
   "outputs": [
    {
     "data": {
      "text/plain": [
       "25"
      ]
     },
     "execution_count": 52,
     "metadata": {},
     "output_type": "execute_result"
    }
   ],
   "source": [
    "df_man_1_liv_free = df.query(\"Sex != 'female' and Pclass == 1 and Survived == 1 and SibSp == 0 and Parch == 0\")\n",
    "df_man_1_liv_free_int = df.query(\"Sex != 'female' and Pclass == 1 and Survived == 1 and SibSp == 0 and Parch == 0\").shape[0]\n",
    "df_man_1_liv_free_int"
   ]
  },
  {
   "cell_type": "code",
   "execution_count": 53,
   "id": "e3b47bb8",
   "metadata": {},
   "outputs": [
    {
     "data": {
      "text/plain": [
       "20"
      ]
     },
     "execution_count": 53,
     "metadata": {},
     "output_type": "execute_result"
    }
   ],
   "source": [
    "df_man_1_liv_fam_int = df_man_1_liv_int - df_man_1_liv_free_int\n",
    "df_man_1_liv_fam_int"
   ]
  },
  {
   "cell_type": "code",
   "execution_count": 98,
   "id": "25b505c9",
   "metadata": {},
   "outputs": [
    {
     "data": {
      "text/plain": [
       "(43.0, 33.0)"
      ]
     },
     "execution_count": 98,
     "metadata": {},
     "output_type": "execute_result"
    }
   ],
   "source": [
    "df_man_1_liv_fam_int_per = round((df_man_1_liv_fam_int / df_man_1_fam_int) * 100, 0)\n",
    "df_man_1_liv_free_int_per = round((df_man_1_liv_free_int / df_man_1_free_int) * 100, 0)\n",
    "df_man_1_liv_fam_int_per, df_man_1_liv_free_int_per"
   ]
  },
  {
   "cell_type": "markdown",
   "id": "437bc4a9",
   "metadata": {},
   "source": [
    "Выжившие мужчины из первого класса без родственников на борту = 25 (33%),\n",
    "\n",
    "Выжившие мужчины из первого класса с родственниками на борту = 20 (43%)."
   ]
  },
  {
   "cell_type": "code",
   "execution_count": 63,
   "id": "d096d225",
   "metadata": {},
   "outputs": [
    {
     "data": {
      "text/plain": [
       "76"
      ]
     },
     "execution_count": 63,
     "metadata": {},
     "output_type": "execute_result"
    }
   ],
   "source": [
    "df_wom_2 = df.query(\"Sex == 'female' and Pclass == 2\")\n",
    "df_wom_2_int = df.query(\"Sex == 'female' and Pclass == 2\").shape[0]\n",
    "df_wom_2_int"
   ]
  },
  {
   "cell_type": "markdown",
   "id": "13266ed2",
   "metadata": {},
   "source": [
    "Количество женщин на борту во втором классе = 76."
   ]
  },
  {
   "cell_type": "code",
   "execution_count": 64,
   "id": "af687215",
   "metadata": {},
   "outputs": [
    {
     "data": {
      "text/plain": [
       "70"
      ]
     },
     "execution_count": 64,
     "metadata": {},
     "output_type": "execute_result"
    }
   ],
   "source": [
    "df_wom_2_liv = df.query(\"Sex == 'female' and Pclass == 2 and Survived == 1\")\n",
    "df_wom_2_liv_int = df.query(\"Sex == 'female' and Pclass == 2 and Survived == 1\").shape[0]\n",
    "df_wom_2_liv_int"
   ]
  },
  {
   "cell_type": "markdown",
   "id": "5f3341af",
   "metadata": {},
   "source": [
    "Количество спасшихся женщин во втором классе = 70."
   ]
  },
  {
   "cell_type": "code",
   "execution_count": 65,
   "id": "175f095f",
   "metadata": {},
   "outputs": [
    {
     "data": {
      "text/plain": [
       "32"
      ]
     },
     "execution_count": 65,
     "metadata": {},
     "output_type": "execute_result"
    }
   ],
   "source": [
    "df_wom_2_free = df.query(\"Sex == 'female' and Pclass == 2 and SibSp == 0 and Parch == 0\")\n",
    "df_wom_2_free_int = df.query(\"Sex == 'female' and Pclass == 2 and SibSp == 0 and Parch == 0\").shape[0]\n",
    "df_wom_2_free_int"
   ]
  },
  {
   "cell_type": "code",
   "execution_count": 66,
   "id": "33a41490",
   "metadata": {},
   "outputs": [
    {
     "data": {
      "text/plain": [
       "44"
      ]
     },
     "execution_count": 66,
     "metadata": {},
     "output_type": "execute_result"
    }
   ],
   "source": [
    "df_wom_2_fam_int = df_wom_2_int - df_wom_2_free_int\n",
    "df_wom_2_fam_int"
   ]
  },
  {
   "cell_type": "markdown",
   "id": "125926a0",
   "metadata": {},
   "source": [
    "Женщин во втором без родственников на борту = 32,\n",
    "\n",
    "Женщин во втором с родственниками на борту = 44."
   ]
  },
  {
   "cell_type": "code",
   "execution_count": 67,
   "id": "32bb9387",
   "metadata": {},
   "outputs": [
    {
     "data": {
      "text/plain": [
       "29"
      ]
     },
     "execution_count": 67,
     "metadata": {},
     "output_type": "execute_result"
    }
   ],
   "source": [
    "df_wom_2_liv_free = df.query(\"Sex == 'female' and Pclass == 2 and Survived == 1 and SibSp == 0 and Parch == 0\")\n",
    "df_wom_2_liv_free_int = df.query(\"Sex == 'female' and Pclass == 2 and Survived == 1 and SibSp == 0 and Parch == 0\").shape[0]\n",
    "df_wom_2_liv_free_int"
   ]
  },
  {
   "cell_type": "code",
   "execution_count": 68,
   "id": "c34d8b92",
   "metadata": {},
   "outputs": [
    {
     "data": {
      "text/plain": [
       "41"
      ]
     },
     "execution_count": 68,
     "metadata": {},
     "output_type": "execute_result"
    }
   ],
   "source": [
    "df_wom_2_liv_fam_int = df_wom_2_liv_int - df_wom_2_liv_free_int\n",
    "df_wom_2_liv_fam_int"
   ]
  },
  {
   "cell_type": "code",
   "execution_count": 93,
   "id": "090fefc6",
   "metadata": {},
   "outputs": [
    {
     "data": {
      "text/plain": [
       "(93.0, 91.0)"
      ]
     },
     "execution_count": 93,
     "metadata": {},
     "output_type": "execute_result"
    }
   ],
   "source": [
    "df_wom_2_liv_fam_int_per = round((df_wom_2_liv_fam_int / df_wom_2_fam_int) * 100, 0)\n",
    "df_wom_2_liv_free_int_per = round((df_wom_2_liv_free_int / df_wom_2_free_int) * 100, 0)\n",
    "df_wom_2_liv_fam_int_per, df_wom_2_liv_free_int_per"
   ]
  },
  {
   "cell_type": "markdown",
   "id": "e5ec4344",
   "metadata": {},
   "source": [
    "Выжившие женщины во втором без родственников на борту = 29 (91%),\n",
    "\n",
    "Выжившие женщины во втором с родственниками на борту = 41 (93%)."
   ]
  },
  {
   "cell_type": "code",
   "execution_count": 69,
   "id": "ed9a8d02",
   "metadata": {},
   "outputs": [
    {
     "data": {
      "text/plain": [
       "108"
      ]
     },
     "execution_count": 69,
     "metadata": {},
     "output_type": "execute_result"
    }
   ],
   "source": [
    "df_man_2 = df.query(\"Sex != 'female' and Pclass == 2\")\n",
    "df_man_2_int = df.query(\"Sex != 'female' and Pclass == 2\").shape[0]\n",
    "df_man_2_int"
   ]
  },
  {
   "cell_type": "markdown",
   "id": "f0e81461",
   "metadata": {},
   "source": [
    "Количество мужчин на борту во втором классе = 108."
   ]
  },
  {
   "cell_type": "code",
   "execution_count": 71,
   "id": "9ebfb62d",
   "metadata": {},
   "outputs": [
    {
     "data": {
      "text/plain": [
       "72"
      ]
     },
     "execution_count": 71,
     "metadata": {},
     "output_type": "execute_result"
    }
   ],
   "source": [
    "df_man_2_free = df.query(\"Sex != 'female' and Pclass == 2 and SibSp == 0 and Parch == 0\")\n",
    "df_man_2_free_int = df.query(\"Sex != 'female' and Pclass == 2 and SibSp == 0 and Parch == 0\").shape[0]\n",
    "df_man_2_free_int"
   ]
  },
  {
   "cell_type": "code",
   "execution_count": 72,
   "id": "45776ca1",
   "metadata": {},
   "outputs": [
    {
     "data": {
      "text/plain": [
       "36"
      ]
     },
     "execution_count": 72,
     "metadata": {},
     "output_type": "execute_result"
    }
   ],
   "source": [
    "df_man_2_fam_int = df_man_2_int - df_man_2_free_int\n",
    "df_man_2_fam_int"
   ]
  },
  {
   "cell_type": "markdown",
   "id": "c49369d0",
   "metadata": {},
   "source": [
    "Количество мужчин без родственников на борту во втором классе = 72,\n",
    "\n",
    "Количество мужчин с родственниками на борту во втором класс = 36."
   ]
  },
  {
   "cell_type": "code",
   "execution_count": 73,
   "id": "be95070f",
   "metadata": {},
   "outputs": [
    {
     "data": {
      "text/plain": [
       "17"
      ]
     },
     "execution_count": 73,
     "metadata": {},
     "output_type": "execute_result"
    }
   ],
   "source": [
    "df_man_2_liv = df.query(\"Sex != 'female' and Pclass == 2 and Survived == 1\")\n",
    "df_man_2_liv_int = df.query(\"Sex != 'female' and Pclass == 2 and Survived == 1\").shape[0]\n",
    "df_man_2_liv_int"
   ]
  },
  {
   "cell_type": "markdown",
   "id": "9ec391ce",
   "metadata": {},
   "source": [
    "Количество спасшихся мужчин во втором классе = 17."
   ]
  },
  {
   "cell_type": "code",
   "execution_count": 74,
   "id": "7dc9d639",
   "metadata": {},
   "outputs": [
    {
     "data": {
      "text/plain": [
       "7"
      ]
     },
     "execution_count": 74,
     "metadata": {},
     "output_type": "execute_result"
    }
   ],
   "source": [
    "df_man_2_liv_free = df.query(\"Sex != 'female' and Pclass == 2 and Survived == 1 and SibSp == 0 and Parch == 0\")\n",
    "df_man_2_liv_free_int = df.query(\"Sex != 'female' and Pclass == 2 and Survived == 1 and SibSp == 0 and Parch == 0\").shape[0]\n",
    "df_man_2_liv_free_int"
   ]
  },
  {
   "cell_type": "code",
   "execution_count": 75,
   "id": "c427c29b",
   "metadata": {},
   "outputs": [
    {
     "data": {
      "text/plain": [
       "10"
      ]
     },
     "execution_count": 75,
     "metadata": {},
     "output_type": "execute_result"
    }
   ],
   "source": [
    "df_man_2_liv_fam_int = df_man_2_liv_int - df_man_2_liv_free_int\n",
    "df_man_2_liv_fam_int"
   ]
  },
  {
   "cell_type": "code",
   "execution_count": 96,
   "id": "2d87846b",
   "metadata": {},
   "outputs": [
    {
     "data": {
      "text/plain": [
       "(28.0, 10.0)"
      ]
     },
     "execution_count": 96,
     "metadata": {},
     "output_type": "execute_result"
    }
   ],
   "source": [
    "df_man_2_liv_fam_int_per = round((df_man_2_liv_fam_int / df_man_2_fam_int) * 100, 0)\n",
    "df_man_2_liv_free_int_per = round((df_man_2_liv_free_int / df_man_2_free_int) * 100, 0)\n",
    "df_man_2_liv_fam_int_per, df_man_2_liv_free_int_per"
   ]
  },
  {
   "cell_type": "markdown",
   "id": "cce0e4d5",
   "metadata": {},
   "source": [
    "Выжившие мужчины во втором классе без родственников на борту = 7 (10%),\n",
    "\n",
    "Выжившие мужчины во втором классе с родственниками на борту = 10 (28%)."
   ]
  },
  {
   "cell_type": "code",
   "execution_count": 77,
   "id": "d08530ed",
   "metadata": {},
   "outputs": [
    {
     "data": {
      "text/plain": [
       "144"
      ]
     },
     "execution_count": 77,
     "metadata": {},
     "output_type": "execute_result"
    }
   ],
   "source": [
    "df_wom_3 = df.query(\"Sex == 'female' and Pclass == 3\")\n",
    "df_wom_3_int = df.query(\"Sex == 'female' and Pclass == 3\").shape[0]\n",
    "df_wom_3_int"
   ]
  },
  {
   "cell_type": "markdown",
   "id": "9a0164e9",
   "metadata": {},
   "source": [
    "Количество женщин на борту в третьем классе = 144."
   ]
  },
  {
   "cell_type": "code",
   "execution_count": 78,
   "id": "beaa8945",
   "metadata": {},
   "outputs": [
    {
     "data": {
      "text/plain": [
       "72"
      ]
     },
     "execution_count": 78,
     "metadata": {},
     "output_type": "execute_result"
    }
   ],
   "source": [
    "df_wom_3_liv = df.query(\"Sex == 'female' and Pclass == 3 and Survived == 1\")\n",
    "df_wom_3_liv_int = df.query(\"Sex == 'female' and Pclass == 3 and Survived == 1\").shape[0]\n",
    "df_wom_3_liv_int"
   ]
  },
  {
   "cell_type": "markdown",
   "id": "88084adc",
   "metadata": {},
   "source": [
    "Количество спасшихся женщин из третьего класса = 72."
   ]
  },
  {
   "cell_type": "code",
   "execution_count": 79,
   "id": "b9654d43",
   "metadata": {},
   "outputs": [
    {
     "data": {
      "text/plain": [
       "60"
      ]
     },
     "execution_count": 79,
     "metadata": {},
     "output_type": "execute_result"
    }
   ],
   "source": [
    "df_wom_3_free = df.query(\"Sex == 'female' and Pclass == 3 and SibSp == 0 and Parch == 0\")\n",
    "df_wom_3_free_int = df.query(\"Sex == 'female' and Pclass == 3 and SibSp == 0 and Parch == 0\").shape[0]\n",
    "df_wom_3_free_int"
   ]
  },
  {
   "cell_type": "code",
   "execution_count": 80,
   "id": "17dfadf6",
   "metadata": {},
   "outputs": [
    {
     "data": {
      "text/plain": [
       "84"
      ]
     },
     "execution_count": 80,
     "metadata": {},
     "output_type": "execute_result"
    }
   ],
   "source": [
    "df_wom_3_fam_int = df_wom_3_int - df_wom_3_free_int\n",
    "df_wom_3_fam_int"
   ]
  },
  {
   "cell_type": "markdown",
   "id": "433ae747",
   "metadata": {},
   "source": [
    "Женщин в третьем классе без родственников на борту = 60,\n",
    "\n",
    "Женщин в третьем классе с родственниками на борту = 84."
   ]
  },
  {
   "cell_type": "code",
   "execution_count": 81,
   "id": "977d9f97",
   "metadata": {},
   "outputs": [
    {
     "data": {
      "text/plain": [
       "37"
      ]
     },
     "execution_count": 81,
     "metadata": {},
     "output_type": "execute_result"
    }
   ],
   "source": [
    "df_wom_3_liv_free = df.query(\"Sex == 'female' and Pclass == 3 and Survived == 1 and SibSp == 0 and Parch == 0\")\n",
    "df_wom_3_liv_free_int = df.query(\"Sex == 'female' and Pclass == 3 and Survived == 1 and SibSp == 0 and Parch == 0\").shape[0]\n",
    "df_wom_3_liv_free_int"
   ]
  },
  {
   "cell_type": "code",
   "execution_count": 82,
   "id": "bcd6f05b",
   "metadata": {},
   "outputs": [
    {
     "data": {
      "text/plain": [
       "35"
      ]
     },
     "execution_count": 82,
     "metadata": {},
     "output_type": "execute_result"
    }
   ],
   "source": [
    "df_wom_3_liv_fam_int = df_wom_3_liv_int - df_wom_3_liv_free_int\n",
    "df_wom_3_liv_fam_int"
   ]
  },
  {
   "cell_type": "code",
   "execution_count": 94,
   "id": "8e7a954e",
   "metadata": {},
   "outputs": [
    {
     "data": {
      "text/plain": [
       "(42.0, 62.0)"
      ]
     },
     "execution_count": 94,
     "metadata": {},
     "output_type": "execute_result"
    }
   ],
   "source": [
    "df_wom_3_liv_fam_int_per = round((df_wom_3_liv_fam_int / df_wom_3_fam_int) * 100, 0)\n",
    "df_wom_3_liv_free_int_per = round((df_wom_3_liv_free_int / df_wom_3_free_int) * 100, 0)\n",
    "df_wom_3_liv_fam_int_per, df_wom_3_liv_free_int_per"
   ]
  },
  {
   "cell_type": "markdown",
   "id": "3fc1c482",
   "metadata": {},
   "source": [
    "Выжившие женщины из третьего класса без родственников на борту = 37 (62%),\n",
    "\n",
    "Выжившие женщины из третьего класса с родственниками на борту = 35 (42%)."
   ]
  },
  {
   "cell_type": "code",
   "execution_count": 84,
   "id": "026a14ab",
   "metadata": {},
   "outputs": [
    {
     "data": {
      "text/plain": [
       "347"
      ]
     },
     "execution_count": 84,
     "metadata": {},
     "output_type": "execute_result"
    }
   ],
   "source": [
    "df_man_3 = df.query(\"Sex != 'female' and Pclass == 3\")\n",
    "df_man_3_int = df.query(\"Sex != 'female' and Pclass == 3\").shape[0]\n",
    "df_man_3_int"
   ]
  },
  {
   "cell_type": "markdown",
   "id": "5ff3421d",
   "metadata": {},
   "source": [
    "Количество мужчин на борту в третьем классе = 347."
   ]
  },
  {
   "cell_type": "code",
   "execution_count": 85,
   "id": "ddd68793",
   "metadata": {},
   "outputs": [
    {
     "data": {
      "text/plain": [
       "264"
      ]
     },
     "execution_count": 85,
     "metadata": {},
     "output_type": "execute_result"
    }
   ],
   "source": [
    "df_man_3_free = df.query(\"Sex != 'female' and Pclass == 3 and SibSp == 0 and Parch == 0\")\n",
    "df_man_3_free_int = df.query(\"Sex != 'female' and Pclass == 3 and SibSp == 0 and Parch == 0\").shape[0]\n",
    "df_man_3_free_int"
   ]
  },
  {
   "cell_type": "code",
   "execution_count": 87,
   "id": "87e7773a",
   "metadata": {},
   "outputs": [
    {
     "data": {
      "text/plain": [
       "83"
      ]
     },
     "execution_count": 87,
     "metadata": {},
     "output_type": "execute_result"
    }
   ],
   "source": [
    "df_man_3_fam_int = df_man_3_int - df_man_3_free_int\n",
    "df_man_3_fam_int"
   ]
  },
  {
   "cell_type": "markdown",
   "id": "4793321d",
   "metadata": {},
   "source": [
    "Количество мужчин без родственников на борту в третьем классе = 264,\n",
    "\n",
    "Количество мужчин с родственниками на борту в третьем классе = 83."
   ]
  },
  {
   "cell_type": "code",
   "execution_count": 89,
   "id": "c4380f61",
   "metadata": {},
   "outputs": [
    {
     "data": {
      "text/plain": [
       "47"
      ]
     },
     "execution_count": 89,
     "metadata": {},
     "output_type": "execute_result"
    }
   ],
   "source": [
    "df_man_3_liv = df.query(\"Sex != 'female' and Pclass == 3 and Survived == 1\")\n",
    "df_man_3_liv_int = df.query(\"Sex != 'female' and Pclass == 3 and Survived == 1\").shape[0]\n",
    "df_man_3_liv_int"
   ]
  },
  {
   "cell_type": "markdown",
   "id": "e4eb0551",
   "metadata": {},
   "source": [
    "Количество спасшихся мужчин в третьем классе = 47."
   ]
  },
  {
   "cell_type": "code",
   "execution_count": 90,
   "id": "c98efb91",
   "metadata": {},
   "outputs": [
    {
     "data": {
      "text/plain": [
       "32"
      ]
     },
     "execution_count": 90,
     "metadata": {},
     "output_type": "execute_result"
    }
   ],
   "source": [
    "df_man_3_liv_free = df.query(\"Sex != 'female' and Pclass == 3 and Survived == 1 and SibSp == 0 and Parch == 0\")\n",
    "df_man_3_liv_free_int = df.query(\"Sex != 'female' and Pclass == 3 and Survived == 1 and SibSp == 0 and Parch == 0\").shape[0]\n",
    "df_man_3_liv_free_int"
   ]
  },
  {
   "cell_type": "code",
   "execution_count": 91,
   "id": "a4429ff7",
   "metadata": {},
   "outputs": [
    {
     "data": {
      "text/plain": [
       "15"
      ]
     },
     "execution_count": 91,
     "metadata": {},
     "output_type": "execute_result"
    }
   ],
   "source": [
    "df_man_3_liv_fam_int = df_man_3_liv_int - df_man_3_liv_free_int\n",
    "df_man_3_liv_fam_int"
   ]
  },
  {
   "cell_type": "code",
   "execution_count": 95,
   "id": "510cc453",
   "metadata": {},
   "outputs": [
    {
     "data": {
      "text/plain": [
       "(18.0, 12.0)"
      ]
     },
     "execution_count": 95,
     "metadata": {},
     "output_type": "execute_result"
    }
   ],
   "source": [
    "df_man_3_liv_fam_int_per = round((df_man_3_liv_fam_int / df_man_3_fam_int) * 100, 0)\n",
    "df_man_3_liv_free_int_per = round((df_man_3_liv_free_int / df_man_3_free_int) * 100, 0)\n",
    "df_man_3_liv_fam_int_per, df_man_3_liv_free_int_per"
   ]
  }
 ],
 "metadata": {
  "kernelspec": {
   "display_name": "Python 3 (ipykernel)",
   "language": "python",
   "name": "python3"
  },
  "language_info": {
   "codemirror_mode": {
    "name": "ipython",
    "version": 3
   },
   "file_extension": ".py",
   "mimetype": "text/x-python",
   "name": "python",
   "nbconvert_exporter": "python",
   "pygments_lexer": "ipython3",
   "version": "3.9.13"
  }
 },
 "nbformat": 4,
 "nbformat_minor": 5
}
